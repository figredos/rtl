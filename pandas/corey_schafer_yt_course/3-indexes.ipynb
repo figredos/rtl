{
 "cells": [
  {
   "cell_type": "markdown",
   "metadata": {},
   "source": [
    "# 3- Indexes\n",
    "\n",
    "Indexes are the basic tool for accessing data from inside most structures in Python. This also applies to pandas, both DataFrames and Series use indexes as a basic tool for accessing info from inside of them.\n",
    "\n",
    "You can access this data inside these structures by using either `loc`, `iloc`, and using labels or indexes respectively.\n"
   ]
  },
  {
   "cell_type": "code",
   "execution_count": 1,
   "metadata": {},
   "outputs": [],
   "source": [
    "# Importing pandas\n",
    "import pandas as pd"
   ]
  },
  {
   "cell_type": "code",
   "execution_count": 2,
   "metadata": {},
   "outputs": [],
   "source": [
    "# Creating DataFrames\n",
    "df = pd.read_csv('stackoverflow-developer-survey-2019/survey_results_public.csv')\n",
    "schema_df = pd.read_csv('stackoverflow-developer-survey-2019/survey_results_schema.csv')"
   ]
  },
  {
   "cell_type": "code",
   "execution_count": null,
   "metadata": {},
   "outputs": [
    {
     "data": {
      "text/plain": [
       "Respondent                                                     43\n",
       "MainBranch                         I am a developer by profession\n",
       "Hobbyist                                                      Yes\n",
       "OpenSourcer                               Less than once per year\n",
       "OpenSource      OSS is, on average, of HIGHER quality than pro...\n",
       "                                      ...                        \n",
       "Sexuality                                 Straight / Heterosexual\n",
       "Ethnicity                               Hispanic or Latino/Latina\n",
       "Dependents                                                     No\n",
       "SurveyLength                                             Too long\n",
       "SurveyEase                                                   Easy\n",
       "Name: 42, Length: 85, dtype: object"
      ]
     },
     "execution_count": 3,
     "metadata": {},
     "output_type": "execute_result"
    }
   ],
   "source": [
    "# Accessing first index with iloc\n",
    "df.loc[42]"
   ]
  },
  {
   "cell_type": "code",
   "execution_count": null,
   "metadata": {},
   "outputs": [
    {
     "data": {
      "text/plain": [
       "Respondent                                                     43\n",
       "MainBranch                         I am a developer by profession\n",
       "Hobbyist                                                      Yes\n",
       "OpenSourcer                               Less than once per year\n",
       "OpenSource      OSS is, on average, of HIGHER quality than pro...\n",
       "                                      ...                        \n",
       "Sexuality                                 Straight / Heterosexual\n",
       "Ethnicity                               Hispanic or Latino/Latina\n",
       "Dependents                                                     No\n",
       "SurveyLength                                             Too long\n",
       "SurveyEase                                                   Easy\n",
       "Name: 42, Length: 85, dtype: object"
      ]
     },
     "execution_count": 5,
     "metadata": {},
     "output_type": "execute_result"
    }
   ],
   "source": [
    "# Accessing first index with loc\n",
    "df.iloc[42]"
   ]
  },
  {
   "cell_type": "markdown",
   "metadata": {},
   "source": [
    "## Changing labels\n",
    "\n",
    "You can easily change the labels of a DF by using the `set_index` method and pass the name of the column to be used as labels. The reverse operation would be `reset_index`.\n",
    "\n",
    "The operation that can benefit from this is finding indexes with is `loc`, this is because it uses labels, not the indexes. The labels for a certain DF is set by default as their index.\n"
   ]
  },
  {
   "cell_type": "code",
   "execution_count": 9,
   "metadata": {},
   "outputs": [],
   "source": [
    "# Changing the index\n",
    "df.set_index('Respondent', inplace=True)"
   ]
  },
  {
   "cell_type": "code",
   "execution_count": 10,
   "metadata": {},
   "outputs": [
    {
     "data": {
      "text/plain": [
       "MainBranch                 I am a student who is learning to code\n",
       "Hobbyist                                                      Yes\n",
       "OpenSourcer                                                 Never\n",
       "OpenSource      The quality of OSS and closed source software ...\n",
       "Employment                 Not employed, and not looking for work\n",
       "                                      ...                        \n",
       "Sexuality                                 Straight / Heterosexual\n",
       "Ethnicity                                                     NaN\n",
       "Dependents                                                     No\n",
       "SurveyLength                                Appropriate in length\n",
       "SurveyEase                             Neither easy nor difficult\n",
       "Name: 1, Length: 84, dtype: object"
      ]
     },
     "execution_count": 10,
     "metadata": {},
     "output_type": "execute_result"
    }
   ],
   "source": [
    "# Accessing first index with iloc\n",
    "df.iloc[0]"
   ]
  },
  {
   "cell_type": "code",
   "execution_count": 11,
   "metadata": {},
   "outputs": [
    {
     "data": {
      "text/plain": [
       "MainBranch                 I am a student who is learning to code\n",
       "Hobbyist                                                      Yes\n",
       "OpenSourcer                                                 Never\n",
       "OpenSource      The quality of OSS and closed source software ...\n",
       "Employment                 Not employed, and not looking for work\n",
       "                                      ...                        \n",
       "Sexuality                                 Straight / Heterosexual\n",
       "Ethnicity                                                     NaN\n",
       "Dependents                                                     No\n",
       "SurveyLength                                Appropriate in length\n",
       "SurveyEase                             Neither easy nor difficult\n",
       "Name: 1, Length: 84, dtype: object"
      ]
     },
     "execution_count": 11,
     "metadata": {},
     "output_type": "execute_result"
    }
   ],
   "source": [
    "# Accessing first index with loc\n",
    "df.loc[1]"
   ]
  }
 ],
 "metadata": {
  "kernelspec": {
   "display_name": ".venv",
   "language": "python",
   "name": "python3"
  },
  "language_info": {
   "codemirror_mode": {
    "name": "ipython",
    "version": 3
   },
   "file_extension": ".py",
   "mimetype": "text/x-python",
   "name": "python",
   "nbconvert_exporter": "python",
   "pygments_lexer": "ipython3",
   "version": "3.12.3"
  }
 },
 "nbformat": 4,
 "nbformat_minor": 2
}
