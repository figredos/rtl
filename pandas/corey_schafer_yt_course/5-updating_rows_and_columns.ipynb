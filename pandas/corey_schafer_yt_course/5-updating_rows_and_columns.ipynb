{
 "cells": [
  {
   "cell_type": "markdown",
   "metadata": {},
   "source": [
    "# 5- Updating Rows and Columns\n",
    "\n",
    "Updating values inside of a DF is essential when working with pandas. Naturally there are a few ways in which you can update a DF, from changing the names of columns, to updating individual values in specified rows.\n"
   ]
  },
  {
   "cell_type": "code",
   "execution_count": 1,
   "metadata": {},
   "outputs": [],
   "source": [
    "# Importing pandas\n",
    "import pandas as pd"
   ]
  },
  {
   "cell_type": "code",
   "execution_count": 2,
   "metadata": {},
   "outputs": [],
   "source": [
    "# Creating people DF\n",
    "people_df = pd.DataFrame(\n",
    "    {\n",
    "        'first': ['John', 'Paul', 'George', 'Ringo'],\n",
    "        'last': ['Lennon', 'McCartney', 'Harrison', 'Starr'],\n",
    "        'birthyear': ['1940', '1942', '1943', '1940'],\n",
    "        'email': [\n",
    "            'john.lennon@email.com',\n",
    "            'paul.mccartney@email.com',\n",
    "            'george.harrison@email.com',\n",
    "            'ringo.starr@email.com',\n",
    "        ],\n",
    "    }\n",
    ")"
   ]
  },
  {
   "cell_type": "markdown",
   "metadata": {},
   "source": [
    "## Updating column's names\n",
    "\n",
    "You can use the `columns` attribute to find the names of the columns of the DF. This is also the way of updating these names, by simply assigning a list of the same length of the number of columns with names.\n",
    "\n",
    "Instead of writing a list of column names each time you want to change the name of a single column, or even to make a slight change into all of these names, you can use two other tools. The first is a simple and very pythonic way, \"**_list comprehension_**\" is a way of condensing `for` loops with conditionals to create lists. Using list comprehensions is a basic way of solving this situation, since `.columns` takes a list, logically the list you assign this attribute can be built using list comprehension.\n",
    "\n",
    "The other way is by using `.replace` and pass a dict with the names to be substituted and the names to substitute. To make changes permanent, much like other DF methods, set `inplace` to true.\n"
   ]
  },
  {
   "cell_type": "code",
   "execution_count": 3,
   "metadata": {},
   "outputs": [
    {
     "data": {
      "text/plain": [
       "Index(['first', 'last', 'birthyear', 'email'], dtype='object')"
      ]
     },
     "execution_count": 3,
     "metadata": {},
     "output_type": "execute_result"
    }
   ],
   "source": [
    "# Checking the names of the columns\n",
    "people_df.columns"
   ]
  },
  {
   "cell_type": "code",
   "execution_count": 4,
   "metadata": {},
   "outputs": [
    {
     "data": {
      "text/html": [
       "<div>\n",
       "<style scoped>\n",
       "    .dataframe tbody tr th:only-of-type {\n",
       "        vertical-align: middle;\n",
       "    }\n",
       "\n",
       "    .dataframe tbody tr th {\n",
       "        vertical-align: top;\n",
       "    }\n",
       "\n",
       "    .dataframe thead th {\n",
       "        text-align: right;\n",
       "    }\n",
       "</style>\n",
       "<table border=\"1\" class=\"dataframe\">\n",
       "  <thead>\n",
       "    <tr style=\"text-align: right;\">\n",
       "      <th></th>\n",
       "      <th>First_name</th>\n",
       "      <th>Last_name</th>\n",
       "      <th>Year_born</th>\n",
       "      <th>E_mail</th>\n",
       "    </tr>\n",
       "  </thead>\n",
       "  <tbody>\n",
       "    <tr>\n",
       "      <th>0</th>\n",
       "      <td>John</td>\n",
       "      <td>Lennon</td>\n",
       "      <td>1940</td>\n",
       "      <td>john.lennon@email.com</td>\n",
       "    </tr>\n",
       "    <tr>\n",
       "      <th>1</th>\n",
       "      <td>Paul</td>\n",
       "      <td>McCartney</td>\n",
       "      <td>1942</td>\n",
       "      <td>paul.mccartney@email.com</td>\n",
       "    </tr>\n",
       "    <tr>\n",
       "      <th>2</th>\n",
       "      <td>George</td>\n",
       "      <td>Harrison</td>\n",
       "      <td>1943</td>\n",
       "      <td>george.harrison@email.com</td>\n",
       "    </tr>\n",
       "    <tr>\n",
       "      <th>3</th>\n",
       "      <td>Ringo</td>\n",
       "      <td>Starr</td>\n",
       "      <td>1940</td>\n",
       "      <td>ringo.starr@email.com</td>\n",
       "    </tr>\n",
       "  </tbody>\n",
       "</table>\n",
       "</div>"
      ],
      "text/plain": [
       "  First_name  Last_name Year_born                     E_mail\n",
       "0       John     Lennon      1940      john.lennon@email.com\n",
       "1       Paul  McCartney      1942   paul.mccartney@email.com\n",
       "2     George   Harrison      1943  george.harrison@email.com\n",
       "3      Ringo      Starr      1940      ringo.starr@email.com"
      ]
     },
     "execution_count": 4,
     "metadata": {},
     "output_type": "execute_result"
    }
   ],
   "source": [
    "# Reassigning column names\n",
    "people_df.columns = ['First_name', 'Last_name', 'Year_born', 'E_mail']\n",
    "people_df"
   ]
  },
  {
   "cell_type": "code",
   "execution_count": 5,
   "metadata": {},
   "outputs": [
    {
     "data": {
      "text/html": [
       "<div>\n",
       "<style scoped>\n",
       "    .dataframe tbody tr th:only-of-type {\n",
       "        vertical-align: middle;\n",
       "    }\n",
       "\n",
       "    .dataframe tbody tr th {\n",
       "        vertical-align: top;\n",
       "    }\n",
       "\n",
       "    .dataframe thead th {\n",
       "        text-align: right;\n",
       "    }\n",
       "</style>\n",
       "<table border=\"1\" class=\"dataframe\">\n",
       "  <thead>\n",
       "    <tr style=\"text-align: right;\">\n",
       "      <th></th>\n",
       "      <th>first_name</th>\n",
       "      <th>last_name</th>\n",
       "      <th>year_born</th>\n",
       "      <th>e_mail</th>\n",
       "    </tr>\n",
       "  </thead>\n",
       "  <tbody>\n",
       "    <tr>\n",
       "      <th>0</th>\n",
       "      <td>John</td>\n",
       "      <td>Lennon</td>\n",
       "      <td>1940</td>\n",
       "      <td>john.lennon@email.com</td>\n",
       "    </tr>\n",
       "    <tr>\n",
       "      <th>1</th>\n",
       "      <td>Paul</td>\n",
       "      <td>McCartney</td>\n",
       "      <td>1942</td>\n",
       "      <td>paul.mccartney@email.com</td>\n",
       "    </tr>\n",
       "    <tr>\n",
       "      <th>2</th>\n",
       "      <td>George</td>\n",
       "      <td>Harrison</td>\n",
       "      <td>1943</td>\n",
       "      <td>george.harrison@email.com</td>\n",
       "    </tr>\n",
       "    <tr>\n",
       "      <th>3</th>\n",
       "      <td>Ringo</td>\n",
       "      <td>Starr</td>\n",
       "      <td>1940</td>\n",
       "      <td>ringo.starr@email.com</td>\n",
       "    </tr>\n",
       "  </tbody>\n",
       "</table>\n",
       "</div>"
      ],
      "text/plain": [
       "  first_name  last_name year_born                     e_mail\n",
       "0       John     Lennon      1940      john.lennon@email.com\n",
       "1       Paul  McCartney      1942   paul.mccartney@email.com\n",
       "2     George   Harrison      1943  george.harrison@email.com\n",
       "3      Ringo      Starr      1940      ringo.starr@email.com"
      ]
     },
     "execution_count": 5,
     "metadata": {},
     "output_type": "execute_result"
    }
   ],
   "source": [
    "# Turning all of the names to lowercase\n",
    "people_df.columns = [x.lower() for x in people_df.columns]\n",
    "people_df"
   ]
  },
  {
   "cell_type": "code",
   "execution_count": 6,
   "metadata": {},
   "outputs": [
    {
     "data": {
      "text/html": [
       "<div>\n",
       "<style scoped>\n",
       "    .dataframe tbody tr th:only-of-type {\n",
       "        vertical-align: middle;\n",
       "    }\n",
       "\n",
       "    .dataframe tbody tr th {\n",
       "        vertical-align: top;\n",
       "    }\n",
       "\n",
       "    .dataframe thead th {\n",
       "        text-align: right;\n",
       "    }\n",
       "</style>\n",
       "<table border=\"1\" class=\"dataframe\">\n",
       "  <thead>\n",
       "    <tr style=\"text-align: right;\">\n",
       "      <th></th>\n",
       "      <th>first</th>\n",
       "      <th>last</th>\n",
       "      <th>year_born</th>\n",
       "      <th>e_mail</th>\n",
       "    </tr>\n",
       "  </thead>\n",
       "  <tbody>\n",
       "    <tr>\n",
       "      <th>0</th>\n",
       "      <td>John</td>\n",
       "      <td>Lennon</td>\n",
       "      <td>1940</td>\n",
       "      <td>john.lennon@email.com</td>\n",
       "    </tr>\n",
       "    <tr>\n",
       "      <th>1</th>\n",
       "      <td>Paul</td>\n",
       "      <td>McCartney</td>\n",
       "      <td>1942</td>\n",
       "      <td>paul.mccartney@email.com</td>\n",
       "    </tr>\n",
       "    <tr>\n",
       "      <th>2</th>\n",
       "      <td>George</td>\n",
       "      <td>Harrison</td>\n",
       "      <td>1943</td>\n",
       "      <td>george.harrison@email.com</td>\n",
       "    </tr>\n",
       "    <tr>\n",
       "      <th>3</th>\n",
       "      <td>Ringo</td>\n",
       "      <td>Starr</td>\n",
       "      <td>1940</td>\n",
       "      <td>ringo.starr@email.com</td>\n",
       "    </tr>\n",
       "  </tbody>\n",
       "</table>\n",
       "</div>"
      ],
      "text/plain": [
       "    first       last year_born                     e_mail\n",
       "0    John     Lennon      1940      john.lennon@email.com\n",
       "1    Paul  McCartney      1942   paul.mccartney@email.com\n",
       "2  George   Harrison      1943  george.harrison@email.com\n",
       "3   Ringo      Starr      1940      ringo.starr@email.com"
      ]
     },
     "execution_count": 6,
     "metadata": {},
     "output_type": "execute_result"
    }
   ],
   "source": [
    "# Substituting names using rename method\n",
    "people_df.rename(columns={'first_name': 'first', 'last_name': 'last'}, inplace=True)\n",
    "people_df"
   ]
  },
  {
   "cell_type": "markdown",
   "metadata": {},
   "source": [
    "## Updating Rows\n",
    "\n",
    "To update rows in a DF is not quite as simple as changing column's names, but its still very much straightforward. Firstly, much like updating column's names, we use lists to reassign values to a row, you also need to pass it a list updating all of the arguments if just accessing the row without specifying a column. You can also use list comprehensions here, but there are better ways to work with row updates. A big peculiarity of using a location method, is that you can specify the column(s) you want to update.\n",
    "\n",
    "You can also use pandas `.at` instead of `.loc`, the difference being that `.at` only accesses one cell at a time.\n"
   ]
  },
  {
   "cell_type": "code",
   "execution_count": 7,
   "metadata": {},
   "outputs": [
    {
     "data": {
      "text/html": [
       "<div>\n",
       "<style scoped>\n",
       "    .dataframe tbody tr th:only-of-type {\n",
       "        vertical-align: middle;\n",
       "    }\n",
       "\n",
       "    .dataframe tbody tr th {\n",
       "        vertical-align: top;\n",
       "    }\n",
       "\n",
       "    .dataframe thead th {\n",
       "        text-align: right;\n",
       "    }\n",
       "</style>\n",
       "<table border=\"1\" class=\"dataframe\">\n",
       "  <thead>\n",
       "    <tr style=\"text-align: right;\">\n",
       "      <th></th>\n",
       "      <th>first</th>\n",
       "      <th>last</th>\n",
       "      <th>year_born</th>\n",
       "      <th>e_mail</th>\n",
       "    </tr>\n",
       "  </thead>\n",
       "  <tbody>\n",
       "    <tr>\n",
       "      <th>0</th>\n",
       "      <td>John</td>\n",
       "      <td>Smith</td>\n",
       "      <td>1943</td>\n",
       "      <td>JohnSmith@email.com</td>\n",
       "    </tr>\n",
       "    <tr>\n",
       "      <th>1</th>\n",
       "      <td>Paul</td>\n",
       "      <td>McCartney</td>\n",
       "      <td>1942</td>\n",
       "      <td>paul.mccartney@email.com</td>\n",
       "    </tr>\n",
       "    <tr>\n",
       "      <th>2</th>\n",
       "      <td>George</td>\n",
       "      <td>Harrison</td>\n",
       "      <td>1943</td>\n",
       "      <td>george.harrison@email.com</td>\n",
       "    </tr>\n",
       "    <tr>\n",
       "      <th>3</th>\n",
       "      <td>Ringo</td>\n",
       "      <td>Starr</td>\n",
       "      <td>1940</td>\n",
       "      <td>ringo.starr@email.com</td>\n",
       "    </tr>\n",
       "  </tbody>\n",
       "</table>\n",
       "</div>"
      ],
      "text/plain": [
       "    first       last year_born                     e_mail\n",
       "0    John      Smith      1943        JohnSmith@email.com\n",
       "1    Paul  McCartney      1942   paul.mccartney@email.com\n",
       "2  George   Harrison      1943  george.harrison@email.com\n",
       "3   Ringo      Starr      1940      ringo.starr@email.com"
      ]
     },
     "execution_count": 7,
     "metadata": {},
     "output_type": "execute_result"
    }
   ],
   "source": [
    "# Updating first row\n",
    "people_df.loc[0] = ['John', 'Smith', '1943', 'JohnSmith@email.com']\n",
    "people_df"
   ]
  },
  {
   "cell_type": "code",
   "execution_count": 8,
   "metadata": {},
   "outputs": [
    {
     "data": {
      "text/html": [
       "<div>\n",
       "<style scoped>\n",
       "    .dataframe tbody tr th:only-of-type {\n",
       "        vertical-align: middle;\n",
       "    }\n",
       "\n",
       "    .dataframe tbody tr th {\n",
       "        vertical-align: top;\n",
       "    }\n",
       "\n",
       "    .dataframe thead th {\n",
       "        text-align: right;\n",
       "    }\n",
       "</style>\n",
       "<table border=\"1\" class=\"dataframe\">\n",
       "  <thead>\n",
       "    <tr style=\"text-align: right;\">\n",
       "      <th></th>\n",
       "      <th>first</th>\n",
       "      <th>last</th>\n",
       "      <th>year_born</th>\n",
       "      <th>e_mail</th>\n",
       "    </tr>\n",
       "  </thead>\n",
       "  <tbody>\n",
       "    <tr>\n",
       "      <th>0</th>\n",
       "      <td>John</td>\n",
       "      <td>Lennon</td>\n",
       "      <td>1943</td>\n",
       "      <td>john.lennon@email.com</td>\n",
       "    </tr>\n",
       "    <tr>\n",
       "      <th>1</th>\n",
       "      <td>Paul</td>\n",
       "      <td>McCartney</td>\n",
       "      <td>1942</td>\n",
       "      <td>paul.mccartney@email.com</td>\n",
       "    </tr>\n",
       "    <tr>\n",
       "      <th>2</th>\n",
       "      <td>George</td>\n",
       "      <td>Harrison</td>\n",
       "      <td>1943</td>\n",
       "      <td>george.harrison@email.com</td>\n",
       "    </tr>\n",
       "    <tr>\n",
       "      <th>3</th>\n",
       "      <td>Ringo</td>\n",
       "      <td>Starr</td>\n",
       "      <td>1940</td>\n",
       "      <td>ringo.starr@email.com</td>\n",
       "    </tr>\n",
       "  </tbody>\n",
       "</table>\n",
       "</div>"
      ],
      "text/plain": [
       "    first       last year_born                     e_mail\n",
       "0    John     Lennon      1943      john.lennon@email.com\n",
       "1    Paul  McCartney      1942   paul.mccartney@email.com\n",
       "2  George   Harrison      1943  george.harrison@email.com\n",
       "3   Ringo      Starr      1940      ringo.starr@email.com"
      ]
     },
     "execution_count": 8,
     "metadata": {},
     "output_type": "execute_result"
    }
   ],
   "source": [
    "# Updating last and email columns of first row\n",
    "people_df.loc[0, ['last', 'e_mail']] = ['Lennon', 'john.lennon@email.com']\n",
    "people_df"
   ]
  },
  {
   "cell_type": "code",
   "execution_count": 9,
   "metadata": {},
   "outputs": [
    {
     "data": {
      "text/html": [
       "<div>\n",
       "<style scoped>\n",
       "    .dataframe tbody tr th:only-of-type {\n",
       "        vertical-align: middle;\n",
       "    }\n",
       "\n",
       "    .dataframe tbody tr th {\n",
       "        vertical-align: top;\n",
       "    }\n",
       "\n",
       "    .dataframe thead th {\n",
       "        text-align: right;\n",
       "    }\n",
       "</style>\n",
       "<table border=\"1\" class=\"dataframe\">\n",
       "  <thead>\n",
       "    <tr style=\"text-align: right;\">\n",
       "      <th></th>\n",
       "      <th>first</th>\n",
       "      <th>last</th>\n",
       "      <th>year_born</th>\n",
       "      <th>e_mail</th>\n",
       "    </tr>\n",
       "  </thead>\n",
       "  <tbody>\n",
       "    <tr>\n",
       "      <th>0</th>\n",
       "      <td>John</td>\n",
       "      <td>Doe</td>\n",
       "      <td>1943</td>\n",
       "      <td>john.lennon@email.com</td>\n",
       "    </tr>\n",
       "    <tr>\n",
       "      <th>1</th>\n",
       "      <td>Paul</td>\n",
       "      <td>McCartney</td>\n",
       "      <td>1942</td>\n",
       "      <td>paul.mccartney@email.com</td>\n",
       "    </tr>\n",
       "    <tr>\n",
       "      <th>2</th>\n",
       "      <td>George</td>\n",
       "      <td>Harrison</td>\n",
       "      <td>1943</td>\n",
       "      <td>george.harrison@email.com</td>\n",
       "    </tr>\n",
       "    <tr>\n",
       "      <th>3</th>\n",
       "      <td>Ringo</td>\n",
       "      <td>Starr</td>\n",
       "      <td>1940</td>\n",
       "      <td>ringo.starr@email.com</td>\n",
       "    </tr>\n",
       "  </tbody>\n",
       "</table>\n",
       "</div>"
      ],
      "text/plain": [
       "    first       last year_born                     e_mail\n",
       "0    John        Doe      1943      john.lennon@email.com\n",
       "1    Paul  McCartney      1942   paul.mccartney@email.com\n",
       "2  George   Harrison      1943  george.harrison@email.com\n",
       "3   Ringo      Starr      1940      ringo.starr@email.com"
      ]
     },
     "execution_count": 9,
     "metadata": {},
     "output_type": "execute_result"
    }
   ],
   "source": [
    "# Using .at to update a cell\n",
    "people_df.at[0, 'last'] = 'Doe'\n",
    "people_df"
   ]
  },
  {
   "cell_type": "code",
   "execution_count": 10,
   "metadata": {},
   "outputs": [
    {
     "name": "stderr",
     "output_type": "stream",
     "text": [
      "/var/folders/1k/k8m1yzxn29s9w7lp8l2mchfw0000gn/T/ipykernel_43806/333405297.py:3: SettingWithCopyWarning: \n",
      "A value is trying to be set on a copy of a slice from a DataFrame.\n",
      "Try using .loc[row_indexer,col_indexer] = value instead\n",
      "\n",
      "See the caveats in the documentation: https://pandas.pydata.org/pandas-docs/stable/user_guide/indexing.html#returning-a-view-versus-a-copy\n",
      "  people_df[people_filter]['last'] = 'Smith'\n"
     ]
    }
   ],
   "source": [
    "# Trying to update a value by filtering a column\n",
    "people_filter = people_df['e_mail'] == 'paul.mccartney@email.com'\n",
    "people_df[people_filter]['last'] = 'Smith'"
   ]
  },
  {
   "cell_type": "code",
   "execution_count": 11,
   "metadata": {},
   "outputs": [
    {
     "data": {
      "text/html": [
       "<div>\n",
       "<style scoped>\n",
       "    .dataframe tbody tr th:only-of-type {\n",
       "        vertical-align: middle;\n",
       "    }\n",
       "\n",
       "    .dataframe tbody tr th {\n",
       "        vertical-align: top;\n",
       "    }\n",
       "\n",
       "    .dataframe thead th {\n",
       "        text-align: right;\n",
       "    }\n",
       "</style>\n",
       "<table border=\"1\" class=\"dataframe\">\n",
       "  <thead>\n",
       "    <tr style=\"text-align: right;\">\n",
       "      <th></th>\n",
       "      <th>first</th>\n",
       "      <th>last</th>\n",
       "      <th>year_born</th>\n",
       "      <th>e_mail</th>\n",
       "    </tr>\n",
       "  </thead>\n",
       "  <tbody>\n",
       "    <tr>\n",
       "      <th>0</th>\n",
       "      <td>John</td>\n",
       "      <td>Doe</td>\n",
       "      <td>1943</td>\n",
       "      <td>john.lennon@email.com</td>\n",
       "    </tr>\n",
       "    <tr>\n",
       "      <th>1</th>\n",
       "      <td>Paul</td>\n",
       "      <td>Smith</td>\n",
       "      <td>1942</td>\n",
       "      <td>paul.mccartney@email.com</td>\n",
       "    </tr>\n",
       "    <tr>\n",
       "      <th>2</th>\n",
       "      <td>George</td>\n",
       "      <td>Harrison</td>\n",
       "      <td>1943</td>\n",
       "      <td>george.harrison@email.com</td>\n",
       "    </tr>\n",
       "    <tr>\n",
       "      <th>3</th>\n",
       "      <td>Ringo</td>\n",
       "      <td>Starr</td>\n",
       "      <td>1940</td>\n",
       "      <td>ringo.starr@email.com</td>\n",
       "    </tr>\n",
       "  </tbody>\n",
       "</table>\n",
       "</div>"
      ],
      "text/plain": [
       "    first      last year_born                     e_mail\n",
       "0    John       Doe      1943      john.lennon@email.com\n",
       "1    Paul     Smith      1942   paul.mccartney@email.com\n",
       "2  George  Harrison      1943  george.harrison@email.com\n",
       "3   Ringo     Starr      1940      ringo.starr@email.com"
      ]
     },
     "execution_count": 11,
     "metadata": {},
     "output_type": "execute_result"
    }
   ],
   "source": [
    "# Correctly using a filter to update a value\n",
    "people_df.loc[people_filter, 'last'] = 'Smith'\n",
    "people_df"
   ]
  },
  {
   "cell_type": "markdown",
   "metadata": {},
   "source": [
    "## `apply`, `applymap`, `map`, `replace`\n",
    "\n",
    "There are a few ways of using a function to update a column. The simplest way of doing so, is applying a function to the column and reassigning it to its updated value.\n",
    "\n",
    "This isn't very practical, this is why pandas has a few other ways of updating these values, by using the `apply`, `applymap`, `map`, and `replace`.\n",
    "\n",
    "- `apply` is the simplest function of the lot to apply a function to a Series/DF. Just cal the apply method on the DF or Series and pass the function you wish to be applied to that structure as an argument. The thing about using `apply` is depending if you're using it on a Series or on a DF, the effects of the method is different. If used on a Series, the function is applied to each one of the cells in the Series, whereas when used on a DataFrame, it is applied over the Series that compose it. You can also apply the function on different axis (columns and rows).\n",
    "- `applymap` applies a function to every individual cell on a DF (kind of what you would want to happen when using apply to a DF).\n",
    "- `map` is a function that only works on Series, and its a way of substituting each value in a Series with any other value. Call the map function and pass it a dict with the values to be substituted. The peculiarity of this method is that values that aren't explicitly substituted are converted into `NaN`.\n",
    "- `replace` works like `map`, but doesn't substitute values to `NaN`.\n",
    "\n",
    "**_OBS.: `applymap` is a deprecated method and it should really be used, it's shown here for the sake of learning. Just don't really use it =)_**\n"
   ]
  },
  {
   "cell_type": "code",
   "execution_count": 12,
   "metadata": {},
   "outputs": [
    {
     "data": {
      "text/html": [
       "<div>\n",
       "<style scoped>\n",
       "    .dataframe tbody tr th:only-of-type {\n",
       "        vertical-align: middle;\n",
       "    }\n",
       "\n",
       "    .dataframe tbody tr th {\n",
       "        vertical-align: top;\n",
       "    }\n",
       "\n",
       "    .dataframe thead th {\n",
       "        text-align: right;\n",
       "    }\n",
       "</style>\n",
       "<table border=\"1\" class=\"dataframe\">\n",
       "  <thead>\n",
       "    <tr style=\"text-align: right;\">\n",
       "      <th></th>\n",
       "      <th>first</th>\n",
       "      <th>last</th>\n",
       "      <th>year_born</th>\n",
       "      <th>e_mail</th>\n",
       "    </tr>\n",
       "  </thead>\n",
       "  <tbody>\n",
       "    <tr>\n",
       "      <th>0</th>\n",
       "      <td>John</td>\n",
       "      <td>doe</td>\n",
       "      <td>1943</td>\n",
       "      <td>john.lennon@email.com</td>\n",
       "    </tr>\n",
       "    <tr>\n",
       "      <th>1</th>\n",
       "      <td>Paul</td>\n",
       "      <td>smith</td>\n",
       "      <td>1942</td>\n",
       "      <td>paul.mccartney@email.com</td>\n",
       "    </tr>\n",
       "    <tr>\n",
       "      <th>2</th>\n",
       "      <td>George</td>\n",
       "      <td>harrison</td>\n",
       "      <td>1943</td>\n",
       "      <td>george.harrison@email.com</td>\n",
       "    </tr>\n",
       "    <tr>\n",
       "      <th>3</th>\n",
       "      <td>Ringo</td>\n",
       "      <td>starr</td>\n",
       "      <td>1940</td>\n",
       "      <td>ringo.starr@email.com</td>\n",
       "    </tr>\n",
       "  </tbody>\n",
       "</table>\n",
       "</div>"
      ],
      "text/plain": [
       "    first      last year_born                     e_mail\n",
       "0    John       doe      1943      john.lennon@email.com\n",
       "1    Paul     smith      1942   paul.mccartney@email.com\n",
       "2  George  harrison      1943  george.harrison@email.com\n",
       "3   Ringo     starr      1940      ringo.starr@email.com"
      ]
     },
     "execution_count": 12,
     "metadata": {},
     "output_type": "execute_result"
    }
   ],
   "source": [
    "# Updating the values of a column using a function and reassigning it\n",
    "people_df['last'] = people_df['last'].str.lower()\n",
    "people_df"
   ]
  },
  {
   "cell_type": "code",
   "execution_count": null,
   "metadata": {},
   "outputs": [
    {
     "data": {
      "text/plain": [
       "0    21\n",
       "1    24\n",
       "2    25\n",
       "3    21\n",
       "Name: e_mail, dtype: int64"
      ]
     },
     "execution_count": 13,
     "metadata": {},
     "output_type": "execute_result"
    }
   ],
   "source": [
    "# Using apply function to check len of e_mail values\n",
    "people_df['e_mail'].apply(len)"
   ]
  },
  {
   "cell_type": "code",
   "execution_count": null,
   "metadata": {},
   "outputs": [
    {
     "data": {
      "text/html": [
       "<div>\n",
       "<style scoped>\n",
       "    .dataframe tbody tr th:only-of-type {\n",
       "        vertical-align: middle;\n",
       "    }\n",
       "\n",
       "    .dataframe tbody tr th {\n",
       "        vertical-align: top;\n",
       "    }\n",
       "\n",
       "    .dataframe thead th {\n",
       "        text-align: right;\n",
       "    }\n",
       "</style>\n",
       "<table border=\"1\" class=\"dataframe\">\n",
       "  <thead>\n",
       "    <tr style=\"text-align: right;\">\n",
       "      <th></th>\n",
       "      <th>first</th>\n",
       "      <th>last</th>\n",
       "      <th>year_born</th>\n",
       "      <th>e_mail</th>\n",
       "      <th>email</th>\n",
       "    </tr>\n",
       "  </thead>\n",
       "  <tbody>\n",
       "    <tr>\n",
       "      <th>0</th>\n",
       "      <td>John</td>\n",
       "      <td>doe</td>\n",
       "      <td>1943</td>\n",
       "      <td>john.lennon@email.com</td>\n",
       "      <td>JOHN.LENNON@EMAIL.COM</td>\n",
       "    </tr>\n",
       "    <tr>\n",
       "      <th>1</th>\n",
       "      <td>Paul</td>\n",
       "      <td>smith</td>\n",
       "      <td>1942</td>\n",
       "      <td>paul.mccartney@email.com</td>\n",
       "      <td>PAUL.MCCARTNEY@EMAIL.COM</td>\n",
       "    </tr>\n",
       "    <tr>\n",
       "      <th>2</th>\n",
       "      <td>George</td>\n",
       "      <td>harrison</td>\n",
       "      <td>1943</td>\n",
       "      <td>george.harrison@email.com</td>\n",
       "      <td>GEORGE.HARRISON@EMAIL.COM</td>\n",
       "    </tr>\n",
       "    <tr>\n",
       "      <th>3</th>\n",
       "      <td>Ringo</td>\n",
       "      <td>starr</td>\n",
       "      <td>1940</td>\n",
       "      <td>ringo.starr@email.com</td>\n",
       "      <td>RINGO.STARR@EMAIL.COM</td>\n",
       "    </tr>\n",
       "  </tbody>\n",
       "</table>\n",
       "</div>"
      ],
      "text/plain": [
       "    first      last year_born                     e_mail  \\\n",
       "0    John       doe      1943      john.lennon@email.com   \n",
       "1    Paul     smith      1942   paul.mccartney@email.com   \n",
       "2  George  harrison      1943  george.harrison@email.com   \n",
       "3   Ringo     starr      1940      ringo.starr@email.com   \n",
       "\n",
       "                       email  \n",
       "0      JOHN.LENNON@EMAIL.COM  \n",
       "1   PAUL.MCCARTNEY@EMAIL.COM  \n",
       "2  GEORGE.HARRISON@EMAIL.COM  \n",
       "3      RINGO.STARR@EMAIL.COM  "
      ]
     },
     "execution_count": 14,
     "metadata": {},
     "output_type": "execute_result"
    }
   ],
   "source": [
    "# Using apply to reassign the values of email to upper\n",
    "people_df['email'] = people_df['e_mail'].apply(lambda x: x.upper())\n",
    "people_df"
   ]
  },
  {
   "cell_type": "code",
   "execution_count": null,
   "metadata": {},
   "outputs": [
    {
     "data": {
      "text/plain": [
       "0    5\n",
       "1    5\n",
       "2    5\n",
       "3    5\n",
       "dtype: int64"
      ]
     },
     "execution_count": 15,
     "metadata": {},
     "output_type": "execute_result"
    }
   ],
   "source": [
    "# Using apply on a DF over columns (doesn't work as expected)\n",
    "people_df.apply(len, axis='columns')"
   ]
  },
  {
   "cell_type": "code",
   "execution_count": null,
   "metadata": {},
   "outputs": [
    {
     "data": {
      "text/plain": [
       "first                           George\n",
       "last                               doe\n",
       "year_born                         1940\n",
       "e_mail       george.harrison@email.com\n",
       "email        GEORGE.HARRISON@EMAIL.COM\n",
       "dtype: object"
      ]
     },
     "execution_count": 16,
     "metadata": {},
     "output_type": "execute_result"
    }
   ],
   "source": [
    "# Using apply on a DF (correctly applying)\n",
    "people_df.apply(pd.Series.min)"
   ]
  },
  {
   "cell_type": "code",
   "execution_count": null,
   "metadata": {},
   "outputs": [
    {
     "name": "stderr",
     "output_type": "stream",
     "text": [
      "/var/folders/1k/k8m1yzxn29s9w7lp8l2mchfw0000gn/T/ipykernel_43806/4252434392.py:1: FutureWarning: DataFrame.applymap has been deprecated. Use DataFrame.map instead.\n",
      "  people_df.applymap(len)\n"
     ]
    },
    {
     "data": {
      "text/html": [
       "<div>\n",
       "<style scoped>\n",
       "    .dataframe tbody tr th:only-of-type {\n",
       "        vertical-align: middle;\n",
       "    }\n",
       "\n",
       "    .dataframe tbody tr th {\n",
       "        vertical-align: top;\n",
       "    }\n",
       "\n",
       "    .dataframe thead th {\n",
       "        text-align: right;\n",
       "    }\n",
       "</style>\n",
       "<table border=\"1\" class=\"dataframe\">\n",
       "  <thead>\n",
       "    <tr style=\"text-align: right;\">\n",
       "      <th></th>\n",
       "      <th>first</th>\n",
       "      <th>last</th>\n",
       "      <th>year_born</th>\n",
       "      <th>e_mail</th>\n",
       "      <th>email</th>\n",
       "    </tr>\n",
       "  </thead>\n",
       "  <tbody>\n",
       "    <tr>\n",
       "      <th>0</th>\n",
       "      <td>4</td>\n",
       "      <td>3</td>\n",
       "      <td>4</td>\n",
       "      <td>21</td>\n",
       "      <td>21</td>\n",
       "    </tr>\n",
       "    <tr>\n",
       "      <th>1</th>\n",
       "      <td>4</td>\n",
       "      <td>5</td>\n",
       "      <td>4</td>\n",
       "      <td>24</td>\n",
       "      <td>24</td>\n",
       "    </tr>\n",
       "    <tr>\n",
       "      <th>2</th>\n",
       "      <td>6</td>\n",
       "      <td>8</td>\n",
       "      <td>4</td>\n",
       "      <td>25</td>\n",
       "      <td>25</td>\n",
       "    </tr>\n",
       "    <tr>\n",
       "      <th>3</th>\n",
       "      <td>5</td>\n",
       "      <td>5</td>\n",
       "      <td>4</td>\n",
       "      <td>21</td>\n",
       "      <td>21</td>\n",
       "    </tr>\n",
       "  </tbody>\n",
       "</table>\n",
       "</div>"
      ],
      "text/plain": [
       "   first  last  year_born  e_mail  email\n",
       "0      4     3          4      21     21\n",
       "1      4     5          4      24     24\n",
       "2      6     8          4      25     25\n",
       "3      5     5          4      21     21"
      ]
     },
     "execution_count": 17,
     "metadata": {},
     "output_type": "execute_result"
    }
   ],
   "source": [
    "# Using applymap to see length of each value in DF\n",
    "people_df.applymap(len)"
   ]
  },
  {
   "cell_type": "code",
   "execution_count": null,
   "metadata": {},
   "outputs": [
    {
     "data": {
      "text/html": [
       "<div>\n",
       "<style scoped>\n",
       "    .dataframe tbody tr th:only-of-type {\n",
       "        vertical-align: middle;\n",
       "    }\n",
       "\n",
       "    .dataframe tbody tr th {\n",
       "        vertical-align: top;\n",
       "    }\n",
       "\n",
       "    .dataframe thead th {\n",
       "        text-align: right;\n",
       "    }\n",
       "</style>\n",
       "<table border=\"1\" class=\"dataframe\">\n",
       "  <thead>\n",
       "    <tr style=\"text-align: right;\">\n",
       "      <th></th>\n",
       "      <th>first</th>\n",
       "      <th>last</th>\n",
       "      <th>year_born</th>\n",
       "      <th>e_mail</th>\n",
       "      <th>email</th>\n",
       "    </tr>\n",
       "  </thead>\n",
       "  <tbody>\n",
       "    <tr>\n",
       "      <th>0</th>\n",
       "      <td>John</td>\n",
       "      <td>doe</td>\n",
       "      <td>1943</td>\n",
       "      <td>john.lennon@email.com</td>\n",
       "      <td>JOHN.LENNON@EMAIL.COM</td>\n",
       "    </tr>\n",
       "    <tr>\n",
       "      <th>1</th>\n",
       "      <td>Paul</td>\n",
       "      <td>smith</td>\n",
       "      <td>1942</td>\n",
       "      <td>paul.mccartney@email.com</td>\n",
       "      <td>PAUL.MCCARTNEY@EMAIL.COM</td>\n",
       "    </tr>\n",
       "    <tr>\n",
       "      <th>2</th>\n",
       "      <td>George</td>\n",
       "      <td>harrison</td>\n",
       "      <td>1943</td>\n",
       "      <td>george.harrison@email.com</td>\n",
       "      <td>GEORGE.HARRISON@EMAIL.COM</td>\n",
       "    </tr>\n",
       "    <tr>\n",
       "      <th>3</th>\n",
       "      <td>Ringo</td>\n",
       "      <td>starr</td>\n",
       "      <td>1940</td>\n",
       "      <td>ringo.starr@email.com</td>\n",
       "      <td>RINGO.STARR@EMAIL.COM</td>\n",
       "    </tr>\n",
       "  </tbody>\n",
       "</table>\n",
       "</div>"
      ],
      "text/plain": [
       "    first      last year_born                     e_mail  \\\n",
       "0    John       doe      1943      john.lennon@email.com   \n",
       "1    Paul     smith      1942   paul.mccartney@email.com   \n",
       "2  George  harrison      1943  george.harrison@email.com   \n",
       "3   Ringo     starr      1940      ringo.starr@email.com   \n",
       "\n",
       "                       email  \n",
       "0      JOHN.LENNON@EMAIL.COM  \n",
       "1   PAUL.MCCARTNEY@EMAIL.COM  \n",
       "2  GEORGE.HARRISON@EMAIL.COM  \n",
       "3      RINGO.STARR@EMAIL.COM  "
      ]
     },
     "execution_count": 18,
     "metadata": {},
     "output_type": "execute_result"
    }
   ],
   "source": [
    "# Using map to change values in a DF\n",
    "people_df['first'].map({'John': 'João', 'Paul': 'Paulo'})\n",
    "people_df"
   ]
  },
  {
   "cell_type": "code",
   "execution_count": null,
   "metadata": {},
   "outputs": [
    {
     "data": {
      "text/html": [
       "<div>\n",
       "<style scoped>\n",
       "    .dataframe tbody tr th:only-of-type {\n",
       "        vertical-align: middle;\n",
       "    }\n",
       "\n",
       "    .dataframe tbody tr th {\n",
       "        vertical-align: top;\n",
       "    }\n",
       "\n",
       "    .dataframe thead th {\n",
       "        text-align: right;\n",
       "    }\n",
       "</style>\n",
       "<table border=\"1\" class=\"dataframe\">\n",
       "  <thead>\n",
       "    <tr style=\"text-align: right;\">\n",
       "      <th></th>\n",
       "      <th>first</th>\n",
       "      <th>last</th>\n",
       "      <th>year_born</th>\n",
       "      <th>e_mail</th>\n",
       "      <th>email</th>\n",
       "    </tr>\n",
       "  </thead>\n",
       "  <tbody>\n",
       "    <tr>\n",
       "      <th>0</th>\n",
       "      <td>John</td>\n",
       "      <td>doe</td>\n",
       "      <td>1943</td>\n",
       "      <td>john.lennon@email.com</td>\n",
       "      <td>JOHN.LENNON@EMAIL.COM</td>\n",
       "    </tr>\n",
       "    <tr>\n",
       "      <th>1</th>\n",
       "      <td>Paul</td>\n",
       "      <td>smith</td>\n",
       "      <td>1942</td>\n",
       "      <td>paul.mccartney@email.com</td>\n",
       "      <td>PAUL.MCCARTNEY@EMAIL.COM</td>\n",
       "    </tr>\n",
       "    <tr>\n",
       "      <th>2</th>\n",
       "      <td>George</td>\n",
       "      <td>harrison</td>\n",
       "      <td>1943</td>\n",
       "      <td>george.harrison@email.com</td>\n",
       "      <td>GEORGE.HARRISON@EMAIL.COM</td>\n",
       "    </tr>\n",
       "    <tr>\n",
       "      <th>3</th>\n",
       "      <td>Ringo</td>\n",
       "      <td>starr</td>\n",
       "      <td>1940</td>\n",
       "      <td>ringo.starr@email.com</td>\n",
       "      <td>RINGO.STARR@EMAIL.COM</td>\n",
       "    </tr>\n",
       "  </tbody>\n",
       "</table>\n",
       "</div>"
      ],
      "text/plain": [
       "    first      last year_born                     e_mail  \\\n",
       "0    John       doe      1943      john.lennon@email.com   \n",
       "1    Paul     smith      1942   paul.mccartney@email.com   \n",
       "2  George  harrison      1943  george.harrison@email.com   \n",
       "3   Ringo     starr      1940      ringo.starr@email.com   \n",
       "\n",
       "                       email  \n",
       "0      JOHN.LENNON@EMAIL.COM  \n",
       "1   PAUL.MCCARTNEY@EMAIL.COM  \n",
       "2  GEORGE.HARRISON@EMAIL.COM  \n",
       "3      RINGO.STARR@EMAIL.COM  "
      ]
     },
     "execution_count": 19,
     "metadata": {},
     "output_type": "execute_result"
    }
   ],
   "source": [
    "# Using replace to change values in a DF\n",
    "people_df['first'] = people_df['first'].replace({'João': 'John', 'Paulo': 'Paul'})\n",
    "people_df"
   ]
  }
 ],
 "metadata": {
  "kernelspec": {
   "display_name": ".venv",
   "language": "python",
   "name": "python3"
  },
  "language_info": {
   "codemirror_mode": {
    "name": "ipython",
    "version": 3
   },
   "file_extension": ".py",
   "mimetype": "text/x-python",
   "name": "python",
   "nbconvert_exporter": "python",
   "pygments_lexer": "ipython3",
   "version": "3.12.3"
  }
 },
 "nbformat": 4,
 "nbformat_minor": 2
}
