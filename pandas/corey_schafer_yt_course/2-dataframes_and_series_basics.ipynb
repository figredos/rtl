{
 "cells": [
  {
   "cell_type": "markdown",
   "metadata": {},
   "source": [
    "# 2- DataFrames and Series basics\n",
    "\n",
    "DataFrames are the main utility of the Pandas library. DataFrames are in their essence tables, they are organized sets of columns and rows. The keys of a specific Data Frame are its columns and values are rows. They are two-dimensional data structures.\n",
    "\n",
    "Series are very much like DF, in fact when a column is accessed in a DF, it returns a Series. Series are one-dimensional data structures that can hold 1 type of data at a time. They are one dimensional arrays.\n"
   ]
  },
  {
   "cell_type": "code",
   "execution_count": 32,
   "metadata": {},
   "outputs": [],
   "source": [
    "# Importing pandas\n",
    "import pandas as pd"
   ]
  },
  {
   "cell_type": "markdown",
   "metadata": {},
   "source": [
    "Data frames are much like dicts in python. They have their own keys and values in columns and rows specifically.\n"
   ]
  },
  {
   "cell_type": "code",
   "execution_count": null,
   "metadata": {},
   "outputs": [],
   "source": [
    "# Creating people dict\n",
    "people = {\n",
    "    'first': ['John', 'Paul', 'George', 'Ringo'],\n",
    "    'last': ['Lennon', 'McCartney', 'Harrison', 'Starr'],\n",
    "    'birthyear': [1940, 1942, 1943, 1940],\n",
    "    'email': [\n",
    "        'john.lennon@email.com',\n",
    "        'paul.mccartney@email.com',\n",
    "        'george.harrison@email.com',\n",
    "        'ringo.starr@email.com',\n",
    "    ],\n",
    "}"
   ]
  },
  {
   "cell_type": "code",
   "execution_count": null,
   "metadata": {},
   "outputs": [
    {
     "data": {
      "text/plain": [
       "['john.lennon@email.com',\n",
       " 'paul.mccartney@email.com',\n",
       " 'george.harrison@email.com',\n",
       " 'ringo.starr@email.com']"
      ]
     },
     "execution_count": 20,
     "metadata": {},
     "output_type": "execute_result"
    }
   ],
   "source": [
    "# Printing the emails key\n",
    "people['email']"
   ]
  },
  {
   "cell_type": "code",
   "execution_count": null,
   "metadata": {},
   "outputs": [],
   "source": [
    "# Converting dict into a DF\n",
    "df = pd.DataFrame(people)"
   ]
  },
  {
   "cell_type": "code",
   "execution_count": null,
   "metadata": {},
   "outputs": [
    {
     "data": {
      "text/html": [
       "<div>\n",
       "<style scoped>\n",
       "    .dataframe tbody tr th:only-of-type {\n",
       "        vertical-align: middle;\n",
       "    }\n",
       "\n",
       "    .dataframe tbody tr th {\n",
       "        vertical-align: top;\n",
       "    }\n",
       "\n",
       "    .dataframe thead th {\n",
       "        text-align: right;\n",
       "    }\n",
       "</style>\n",
       "<table border=\"1\" class=\"dataframe\">\n",
       "  <thead>\n",
       "    <tr style=\"text-align: right;\">\n",
       "      <th></th>\n",
       "      <th>first</th>\n",
       "      <th>last</th>\n",
       "      <th>birthyear</th>\n",
       "      <th>email</th>\n",
       "    </tr>\n",
       "  </thead>\n",
       "  <tbody>\n",
       "    <tr>\n",
       "      <th>0</th>\n",
       "      <td>John</td>\n",
       "      <td>Lennon</td>\n",
       "      <td>1940</td>\n",
       "      <td>john.lennon@email.com</td>\n",
       "    </tr>\n",
       "    <tr>\n",
       "      <th>1</th>\n",
       "      <td>Paul</td>\n",
       "      <td>McCartney</td>\n",
       "      <td>1942</td>\n",
       "      <td>paul.mccartney@email.com</td>\n",
       "    </tr>\n",
       "    <tr>\n",
       "      <th>2</th>\n",
       "      <td>George</td>\n",
       "      <td>Harrison</td>\n",
       "      <td>1943</td>\n",
       "      <td>george.harrison@email.com</td>\n",
       "    </tr>\n",
       "    <tr>\n",
       "      <th>3</th>\n",
       "      <td>Ringo</td>\n",
       "      <td>Starr</td>\n",
       "      <td>1940</td>\n",
       "      <td>ringo.starr@email.com</td>\n",
       "    </tr>\n",
       "  </tbody>\n",
       "</table>\n",
       "</div>"
      ],
      "text/plain": [
       "    first       last  birthyear                      email\n",
       "0    John     Lennon       1940      john.lennon@email.com\n",
       "1    Paul  McCartney       1942   paul.mccartney@email.com\n",
       "2  George   Harrison       1943  george.harrison@email.com\n",
       "3   Ringo      Starr       1940      ringo.starr@email.com"
      ]
     },
     "execution_count": 22,
     "metadata": {},
     "output_type": "execute_result"
    }
   ],
   "source": [
    "# Showing DF\n",
    "df"
   ]
  },
  {
   "cell_type": "markdown",
   "metadata": {},
   "source": [
    "## Accessing data in DF\n",
    "\n",
    "As previously said, when you access a specific column in a DF, pandas returns a Series object. You can access a specific column in a DataFrame by either using `[]` or with a dot-notation. The latter is not as reliable, mainly if the column name is also the name of a `pd.DataFrame` method/attribute.\n"
   ]
  },
  {
   "cell_type": "code",
   "execution_count": 23,
   "metadata": {},
   "outputs": [
    {
     "data": {
      "text/plain": [
       "0        john.lennon@email.com\n",
       "1     paul.mccartney@email.com\n",
       "2    george.harrison@email.com\n",
       "3        ringo.starr@email.com\n",
       "Name: email, dtype: object"
      ]
     },
     "execution_count": 23,
     "metadata": {},
     "output_type": "execute_result"
    }
   ],
   "source": [
    "df['email']"
   ]
  },
  {
   "cell_type": "code",
   "execution_count": 24,
   "metadata": {},
   "outputs": [
    {
     "data": {
      "text/plain": [
       "0        john.lennon@email.com\n",
       "1     paul.mccartney@email.com\n",
       "2    george.harrison@email.com\n",
       "3        ringo.starr@email.com\n",
       "Name: email, dtype: object"
      ]
     },
     "execution_count": 24,
     "metadata": {},
     "output_type": "execute_result"
    }
   ],
   "source": [
    "df.email"
   ]
  },
  {
   "cell_type": "markdown",
   "metadata": {},
   "source": [
    "You can show all of the DF's columns by using the `.columns` attribute.\n"
   ]
  },
  {
   "cell_type": "code",
   "execution_count": 25,
   "metadata": {},
   "outputs": [
    {
     "data": {
      "text/plain": [
       "Index(['first', 'last', 'birthyear', 'email'], dtype='object')"
      ]
     },
     "execution_count": 25,
     "metadata": {},
     "output_type": "execute_result"
    }
   ],
   "source": [
    "df.columns"
   ]
  },
  {
   "cell_type": "markdown",
   "metadata": {},
   "source": [
    "## `iloc` and `loc`\n",
    "\n",
    "Although you can use traditional bracket notation to select specific columns in a DF, you cannot do the same for rows.\n",
    "\n",
    "To do this, you can use either `iloc` or `loc`.\n",
    "\n",
    "### `iloc`\n",
    "\n",
    "`iloc` allows accessing rows by integer location. You can also pass a list of rows as indexes to select multiple at a time. Conversely, this can be done to select specific row(s) in specified column(s), by simply adding indexes for columns separated by a comma from the row(s) index(es).\n",
    "\n",
    "The peculiarity of `iloc` is that its based on the current position of specific rows in the DF. It doesn't support accessing columns by their names.\n",
    "\n",
    "### `loc`\n",
    "\n",
    "`loc` uses labels instead of the data's position at the time of access. Instead of only using integers for locating data in columns, you can use the name of the column to access it.\n",
    "\n",
    "Contrary to `iloc` this method doesn't follow the current position, instead relying on the row's label.\n"
   ]
  },
  {
   "cell_type": "code",
   "execution_count": 26,
   "metadata": {},
   "outputs": [
    {
     "data": {
      "text/plain": [
       "0    1940\n",
       "1    1942\n",
       "Name: birthyear, dtype: int64"
      ]
     },
     "execution_count": 26,
     "metadata": {},
     "output_type": "execute_result"
    }
   ],
   "source": [
    "df.iloc[[0, 1], 2]"
   ]
  },
  {
   "cell_type": "code",
   "execution_count": 27,
   "metadata": {},
   "outputs": [
    {
     "data": {
      "text/plain": [
       "0       john.lennon@email.com\n",
       "1    paul.mccartney@email.com\n",
       "Name: email, dtype: object"
      ]
     },
     "execution_count": 27,
     "metadata": {},
     "output_type": "execute_result"
    }
   ],
   "source": [
    "df.loc[[0, 1], 'email']"
   ]
  },
  {
   "cell_type": "markdown",
   "metadata": {},
   "source": [
    "### Slicing\n",
    "\n",
    "You can use both methods for slicing DFs. Slicing works very much like other structures in python, such as lists or tuples. When slicing by using `loc`, you have inclusive values when slicing columns.\n"
   ]
  },
  {
   "cell_type": "code",
   "execution_count": 28,
   "metadata": {},
   "outputs": [
    {
     "data": {
      "text/plain": [
       "0      John\n",
       "1      Paul\n",
       "2    George\n",
       "Name: first, dtype: object"
      ]
     },
     "execution_count": 28,
     "metadata": {},
     "output_type": "execute_result"
    }
   ],
   "source": [
    "df.loc[0:2, 'first']"
   ]
  },
  {
   "cell_type": "code",
   "execution_count": 31,
   "metadata": {},
   "outputs": [
    {
     "data": {
      "text/html": [
       "<div>\n",
       "<style scoped>\n",
       "    .dataframe tbody tr th:only-of-type {\n",
       "        vertical-align: middle;\n",
       "    }\n",
       "\n",
       "    .dataframe tbody tr th {\n",
       "        vertical-align: top;\n",
       "    }\n",
       "\n",
       "    .dataframe thead th {\n",
       "        text-align: right;\n",
       "    }\n",
       "</style>\n",
       "<table border=\"1\" class=\"dataframe\">\n",
       "  <thead>\n",
       "    <tr style=\"text-align: right;\">\n",
       "      <th></th>\n",
       "      <th>first</th>\n",
       "      <th>last</th>\n",
       "      <th>birthyear</th>\n",
       "    </tr>\n",
       "  </thead>\n",
       "  <tbody>\n",
       "    <tr>\n",
       "      <th>0</th>\n",
       "      <td>John</td>\n",
       "      <td>Lennon</td>\n",
       "      <td>1940</td>\n",
       "    </tr>\n",
       "    <tr>\n",
       "      <th>1</th>\n",
       "      <td>Paul</td>\n",
       "      <td>McCartney</td>\n",
       "      <td>1942</td>\n",
       "    </tr>\n",
       "    <tr>\n",
       "      <th>2</th>\n",
       "      <td>George</td>\n",
       "      <td>Harrison</td>\n",
       "      <td>1943</td>\n",
       "    </tr>\n",
       "  </tbody>\n",
       "</table>\n",
       "</div>"
      ],
      "text/plain": [
       "    first       last  birthyear\n",
       "0    John     Lennon       1940\n",
       "1    Paul  McCartney       1942\n",
       "2  George   Harrison       1943"
      ]
     },
     "execution_count": 31,
     "metadata": {},
     "output_type": "execute_result"
    }
   ],
   "source": [
    "df.loc[0:2, 'first':'birthyear']"
   ]
  }
 ],
 "metadata": {
  "kernelspec": {
   "display_name": ".venv",
   "language": "python",
   "name": "python3"
  },
  "language_info": {
   "codemirror_mode": {
    "name": "ipython",
    "version": 3
   },
   "file_extension": ".py",
   "mimetype": "text/x-python",
   "name": "python",
   "nbconvert_exporter": "python",
   "pygments_lexer": "ipython3",
   "version": "3.12.3"
  }
 },
 "nbformat": 4,
 "nbformat_minor": 2
}
